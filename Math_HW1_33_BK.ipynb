{
  "nbformat": 4,
  "nbformat_minor": 0,
  "metadata": {
    "colab": {
      "provenance": [],
      "authorship_tag": "ABX9TyMUN+P1QT59Pgg+mVtqNz1y",
      "include_colab_link": true
    },
    "kernelspec": {
      "name": "python3",
      "display_name": "Python 3"
    },
    "language_info": {
      "name": "python"
    }
  },
  "cells": [
    {
      "cell_type": "markdown",
      "metadata": {
        "id": "view-in-github",
        "colab_type": "text"
      },
      "source": [
        "<a href=\"https://colab.research.google.com/github/BeshkiaKvarnstrom/MSDS-Repos/blob/main/Math_HW1_33_BK.ipynb\" target=\"_parent\"><img src=\"https://colab.research.google.com/assets/colab-badge.svg\" alt=\"Open In Colab\"/></a>"
      ]
    },
    {
      "cell_type": "code",
      "execution_count": 46,
      "metadata": {
        "colab": {
          "base_uri": "https://localhost:8080/"
        },
        "id": "SYTSf5I4mvJr",
        "outputId": "8b6c18d6-49cc-4511-e975-1fee4e4013e9"
      },
      "outputs": [
        {
          "output_type": "stream",
          "name": "stdout",
          "text": [
            "odd\n",
            "23.0, 25.0, 27.0, 29.0, 31.0, 33.0, 35.0, 37.0, 39.0, 41.0.\n"
          ]
        }
      ],
      "source": [
        "\"\"\"\n",
        "Question #1: Even-Odd Vending Machine\n",
        "Try writing an “even-odd vending machine,” which will take a number as input and do two things:\n",
        "1.\tPrint whether the number is even or odd.\n",
        "2.\tDisplay the number followed by the next 9 even or odd numbers.\n",
        "\n",
        "If the input is 2, the program should print even and then print 2, 4, 6,\n",
        "8, 10, 12, 14, 16, 18, 20. Similarly, if the input is 1, the program should\n",
        "print odd and then print 1, 3, 5, 7, 9, 11, 13, 15, 17, 19.\n",
        "Working with Numbers 23\n",
        "Your program should use the is_integer() method to display an error message if the input is a number with significant digits beyond the decimal point.\n",
        "\"\"\"\n",
        "def verify_e_o(value):\n",
        "    value = float(value)\n",
        "    if value.is_integer():\n",
        "        if value % 2 == 0:\n",
        "            print(\"even\")\n",
        "        else:\n",
        "            print(\"odd\")\n",
        "        for i in range(0, 18, 2):\n",
        "            print(value + i, sep='', end=', ', flush=True)\n",
        "        print(value + 18, sep='', end='.\\n', flush=False)\n",
        "    else:\n",
        "        print(\"error : input is a number with significant digits beyond the decimal point\")\n",
        "\n",
        "if __name__ == '__main__':\n",
        "    verify_e_o(23.00)\n"
      ]
    },
    {
      "cell_type": "code",
      "source": [
        "\"\"\"\n",
        "Question #2: Exploring a Quadratic Function Visually\n",
        "Your programming challenge is to enhance this program to create a graph of the \n",
        "function. Try using at least 10 values for x instead of the 6above. Calculate \n",
        "the corresponding y values using the function and then create a graph using \n",
        "these two sets of values.\n",
        "\n",
        "Once you’ve created the graph, spend some time analyzing how the\n",
        "value of y varies with respect to x. Is the variation linear or nonlinear?\n",
        "\"\"\"\n",
        "import matplotlib.pyplot as plot\n",
        "\n",
        "def fun_Q():\n",
        "    val_x = [-1, 1, 2, 3, 4, 5, 6, 7, 8, 9]\n",
        "    val_y = []\n",
        "    for x in val_x:\n",
        "        val_y.append(x**2 + 2*x + 1)\n",
        "    create_rep_grph(val_x, val_y)\n",
        "\n",
        "\n",
        "def create_rep_grph(x, y):\n",
        "    plot.plot(x, y, marker='o')\n",
        "    plot.xlabel('axis-x')\n",
        "    plot.ylabel('axis-y')\n",
        "    plot.title('Visuals - Quadratic Function Calculator')\n",
        "    plot.show()\n",
        "\n",
        "    #We found variation - nonlinear\n",
        "\n",
        "if __name__ == '__main__':\n",
        "    fun_Q()"
      ],
      "metadata": {
        "colab": {
          "base_uri": "https://localhost:8080/",
          "height": 295
        },
        "id": "iCTzFo7yo2uD",
        "outputId": "a55d017c-6d27-476e-f53a-2eedbfc171dd"
      },
      "execution_count": 47,
      "outputs": [
        {
          "output_type": "display_data",
          "data": {
            "text/plain": [
              "<Figure size 432x288 with 1 Axes>"
            ],
            "image/png": "[encoded data removed]"
          },
          "metadata": {
            "needs_background": "light"
          }
        }
      ]
    },
    {
      "cell_type": "code",
      "source": [
        "\"\"\"\n",
        "Question #3: Statistics Calculator\n",
        "Implement a statistics calculator that takes a list of numbers in the file\n",
        "mydata.txt and then calculates and prints their mean, median, mode,\n",
        "variance, and standard deviation using the functions we wrote earlier in\n",
        "this chapter.\n",
        "\"\"\"\n",
        "import matplotlib.pyplot as plot\n",
        "from collections import Counter\n",
        "\n",
        "def get_file(file):\n",
        "    nums = []\n",
        "    with open(file) as lines:\n",
        "        for line in lines:\n",
        "            nums.append(float(line))\n",
        "    return nums\n",
        "\n",
        "def get_mean(nums):\n",
        "    sum_of_nums = sum(nums)\n",
        "    lenght_of_nums = len(nums)\n",
        "    mean_value = sum_of_nums / lenght_of_nums\n",
        "    return mean_value\n",
        "\n",
        "def get_median(nums):\n",
        "    lenght_of_nums = len(nums)\n",
        "    nums.sort()\n",
        "\n",
        "    if lenght_of_nums % 2 == 0:\n",
        "        val1 = int(lenght_of_nums / 2) - 1\n",
        "        val2 = int((lenght_of_nums / 2) + 1) - 1\n",
        "        final_med = (nums[val1] + nums[val2]) / 2\n",
        "    else:\n",
        "        val12 = int((lenght_of_nums + 1) / 2) - 1\n",
        "        final_med = nums[val12]\n",
        "    return final_med\n",
        "\n",
        "def get_mode(nums):\n",
        "    count = Counter(nums)\n",
        "    f = count.most_common()\n",
        "    counted = f[0][1]\n",
        "    values_mode = []\n",
        "    for n in f:\n",
        "        if n[1] == counted:\n",
        "            values_mode.append(n[0])\n",
        "    return values_mode\n",
        "\n",
        "\n",
        "def get_variation(nums):\n",
        "    n_value = get_mean(nums)\n",
        "    lt = []\n",
        "    for n in nums:\n",
        "        lt.append(n - n_value)\n",
        "    return lt\n",
        "\n",
        "def get_variance(nums):\n",
        "    lt = get_variation(nums)\n",
        "    l_lt = []\n",
        "    for n in lt:\n",
        "        l_lt.append(n**2)\n",
        "    s_l_lt = sum(l_lt)\n",
        "    final_var = s_l_lt / len(nums)\n",
        "    return final_var\n",
        "\n",
        "if __name__ == '__main__':\n",
        "    val = get_file('mydata.txt')\n",
        "    mean_value = get_mean(val)\n",
        "    median_value = get_median(val)\n",
        "    mode_value = get_mode(val)\n",
        "    variance_value = get_variance(val)\n",
        "    Standard_Deviation_value = variance_value**0.5\n",
        "    print('Mean: {0}'.format(mean_value))\n",
        "    print('Median: {0}'.format(median_value))\n",
        "    print('Mode: {0}'.format(mode_value))\n",
        "    print('Variance: {0}'.format(variance_value))\n",
        "    print('Standard Deviation: {0}'.format(Standard_Deviation_value))"
      ],
      "metadata": {
        "colab": {
          "base_uri": "https://localhost:8080/"
        },
        "id": "TKd-zVqYmOpW",
        "outputId": "4ee0aaa6-bce7-4ab9-b4dc-03d591f80840"
      },
      "execution_count": 48,
      "outputs": [
        {
          "output_type": "stream",
          "name": "stdout",
          "text": [
            "Mean: 55.0\n",
            "Median: 55.0\n",
            "Mode: [10.0, 20.0, 30.0, 40.0, 50.0, 60.0, 70.0, 80.0, 90.0, 100.0]\n",
            "Variance: 825.0\n",
            "Standard Deviation: 28.722813232690143\n"
          ]
        }
      ]
    },
    {
      "cell_type": "code",
      "source": [
        "\"\"\"\n",
        "Question #4: Solving Single-Variable Inequalities\n",
        "challenge  (1) to create a function, isolve(), that\n",
        "will take any inequality and (2) to choose one of the appropriate functions\n",
        "discussed in this section to solve it and return the solution.\n",
        "\"\"\"\n",
        "import sympy as sym\n",
        "\n",
        "x,y = sym.symbols('x,y')\n",
        "eq1 = sym.Eq(x+y,5)\n",
        "eq2 = sym.Eq(x**2+y**2,17)\n",
        "result = sym.solve([eq1,eq2],(x,y))\n",
        "print(result)"
      ],
      "metadata": {
        "colab": {
          "base_uri": "https://localhost:8080/"
        },
        "id": "FrtQ1gOasjHS",
        "outputId": "efcd1382-e5c0-426a-9e95-973ecdefd816"
      },
      "execution_count": 49,
      "outputs": [
        {
          "output_type": "stream",
          "name": "stdout",
          "text": [
            "[(1, 4), (4, 1)]\n"
          ]
        }
      ]
    },
    {
      "cell_type": "code",
      "source": [
        "from sympy import Derivative, Symbol, sympify\n",
        "from sympy.core.sympify import SympifyError\n",
        "\n",
        "def isolve(x0, f1x, x):\n",
        "    epsilon = 1e-6\n",
        "    step_size = 1e-4\n",
        "    x_old = x0\n",
        "    x_new = x_old - step_size * f1x.subs({x: x_old}).evalf()\n",
        "    while abs(x_old - x_new) > epsilon:\n",
        "        x_old = x_new\n",
        "        x_new = x_old - step_size * f1x.subs({x: x_old}).evalf()\n",
        "\n",
        "    return x_new\n",
        "\n",
        "if __name__ == '__main__':\n",
        "    f = input('Enter a function in one variable: ')\n",
        "    var = input('Enter the variable to differentiate with respect to: ')\n",
        "    var0 = float(input('Enter the initial value of the variable: '))\n",
        "    try:\n",
        "        f = sympify(f)\n",
        "    except SympifyError:\n",
        "        print('Invalid')\n",
        "    else:\n",
        "\n",
        "        var = Symbol(var)\n",
        "        d = Derivative(f, var).doit()\n",
        "\n",
        "        var_min = isolve(var0, d, var)\n",
        "        print('{0}: {1}'.format(var.name, var_min))\n",
        "        print('Minimum value: {0}'.format(f.subs({var: var_min})))"
      ],
      "metadata": {
        "id": "wgjjeiky4r2J"
      },
      "execution_count": null,
      "outputs": []
    },
    {
      "cell_type": "code",
      "source": [
        "\"\"\"\n",
        "Question #5: Law of Large Numbers\n",
        "According to the law of large numbers, the average value of results over\n",
        "multiple trials approaches the expected value as the number of trials\n",
        "increases. \n",
        "\n",
        "Your challenge in this task is to verify this law when rolling a\n",
        "six-sided die for the following number of trials: 100, 1000, 10000, 100000,\n",
        "and 500000. Here’s an expected sample run of your complete program:\n",
        "Expected value: 3.5\n",
        "Trials: 100 Trial average 3.39\n",
        "Trials: 1000 Trial average 3.576\n",
        "Trials: 10000 Trial average 3.5054\n",
        "Trials: 100000 Trial average 3.50201\n",
        "Trials: 500000 Trial average 3.495568\n",
        "\"\"\"\n",
        "import random\n",
        " \n",
        "def die_roll(data_list, times):\n",
        "    total = 0\n",
        "    for i in range(times):\n",
        "        num = random.randint(1,6)\n",
        "        total = total + num\n",
        "        data_list[num-1] = data_list[num-1] + 1\n",
        "    average = total * 1.0 / times\n",
        "    return average  \n",
        "     \n",
        "Samp_trials = [100, 1000, 10000, 10000, 100000, 500000]\n",
        "times = 1000 # throw a die n times\n",
        "average = die_roll(Samp_trials,times)\n",
        "\n",
        "print ('The average is',average)\n",
        "\n",
        "for trial in Samp_trials:\n",
        "        avg = die_roll(Samp_trials,times)\n",
        "        print('# Rolls: {0} Roll average {1}'.format(trial, avg))"
      ],
      "metadata": {
        "id": "ppW5-CIG3yAf"
      },
      "execution_count": null,
      "outputs": []
    },
    {
      "cell_type": "code",
      "source": [
        "\"\"\"\n",
        "Question #6: Implement the Gradient Descent\n",
        "Implement a generic program using the gradient descent algorithm to find\n",
        "the minimum value of a single-variable function specified as input by the \n",
        "user. The program should also create a graph of the function and show \n",
        "all the intermediate values it found before finding the minimum.\n",
        "\"\"\"\n",
        "from sympy import Derivative, Symbol, sympify\n",
        "from sympy.core.sympify import SympifyError\n",
        "\n",
        "def gradient_des(x0, f1x, x):\n",
        "    epsilon = 1e-6\n",
        "    step_size = 1e-4\n",
        "    x_old = x0\n",
        "    x_new = x_old - step_size * f1x.subs({x: x_old}).evalf()\n",
        "    while abs(x_old - x_new) > epsilon:\n",
        "        x_old = x_new\n",
        "        x_new = x_old - step_size * f1x.subs({x: x_old}).evalf()\n",
        "\n",
        "    return x_new\n",
        "\n",
        "if __name__ == '__main__':\n",
        "    f = input('Enter a function in one variable: ')\n",
        "    var = input('Enter the variable to differentiate with respect to: ')\n",
        "    var0 = float(input('Enter the initial value of the variable: '))\n",
        "    try:\n",
        "        f = sympify(f)\n",
        "    except SympifyError:\n",
        "        print('Invalid function entered')\n",
        "    else:\n",
        "\n",
        "        var = Symbol(var)\n",
        "        d = Derivative(f, var).doit()\n",
        "\n",
        "        var_min = gradient_des(var0, d, var)\n",
        "        print('{0}: {1}'.format(var.name, var_min))\n",
        "        print('Minimum value: {0}'.format(f.subs({var: var_min})))"
      ],
      "metadata": {
        "id": "pthwrl4J3_7q"
      },
      "execution_count": null,
      "outputs": []
    }
  ]
}